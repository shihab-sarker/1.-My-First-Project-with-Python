{
 "cells": [
  {
   "cell_type": "markdown",
   "metadata": {},
   "source": [
    "# Theory\n",
    "Each new stage of a project is a step up in difficulty. The main idea, though, remains the same. You need to take your code from the first stage and add new features. Find the description of these features below.\n",
    "\n",
    "# Description\n",
    "```A month has passed since the opening of your shop. Let's calculate the total earnings for this period! You know the total earned amount for each item:\n",
    "\n",
    "Item name               Earned amount\n",
    "\n",
    "Bubblegum                   $202\n",
    "\n",
    "Toffee                      $118\n",
    "\n",
    "Ice cream                   $2250\n",
    "\n",
    "Milk chocolate              $1680\n",
    "\n",
    "Doughnut                    $1075\n",
    "\n",
    "Pancake                     $80\n",
    "\n",
    "Use it and find the total income in the first month.\n",
    "\n"
   ]
  },
  {
   "cell_type": "markdown",
   "metadata": {},
   "source": [
    "# Objectives\n",
    "In this stage, your program should:\n",
    "\n",
    "Print the Earned amount: line.\n",
    "\n",
    "Print the item names and the earned amount for each of them;\n",
    "\n",
    "Print the total earnings as shown below. Replace 0.0 with the actual total sum:\n",
    "\n",
    "Income: $0.0\n",
    "\n",
    "# Example\n",
    "Example 1: output at the end of this stage (figures may vary)\n",
    "\n",
    "```Earned amount:\n",
    "Bubblegum: $202\n",
    "Toffee: $118\n",
    "Ice cream: $2250\n",
    "Milk chocolate: $1680\n",
    "Doughnut: $1075\n",
    "Pancake: $80\n",
    "\n",
    "Income: $7777.0"
   ]
  },
  {
   "cell_type": "code",
   "execution_count": 1,
   "metadata": {},
   "outputs": [
    {
     "name": "stdout",
     "output_type": "stream",
     "text": [
      "Earned amount:\n",
      "Bubblegum: $202\n",
      "Toffee: $118\n",
      "Ice cream: $2250\n",
      "Milk chocolate: $1680\n",
      "Doughnut: $1075\n",
      "Pancake: $80\n",
      "\n",
      "Income: $5405.0\n"
     ]
    }
   ],
   "source": [
    "# Solution\n",
    "def calculate_income():\n",
    "    items = {\n",
    "        \"Bubblegum\": 202,\n",
    "        \"Toffee\": 118,\n",
    "        \"Ice cream\": 2250,\n",
    "        \"Milk chocolate\": 1680,\n",
    "        \"Doughnut\": 1075,\n",
    "        \"Pancake\": 80\n",
    "    }\n",
    "\n",
    "    total_income = sum(items.values())\n",
    "\n",
    "    print(\"Earned amount:\")\n",
    "    for item, amount in items.items():\n",
    "        print(f\"{item}: ${amount}\")\n",
    "    \n",
    "    print(f\"\\nIncome: ${total_income:.1f}\")\n",
    "\n",
    "if __name__ == \"__main__\":\n",
    "    calculate_income()"
   ]
  }
 ],
 "metadata": {
  "kernelspec": {
   "display_name": "base",
   "language": "python",
   "name": "python3"
  },
  "language_info": {
   "codemirror_mode": {
    "name": "ipython",
    "version": 3
   },
   "file_extension": ".py",
   "mimetype": "text/x-python",
   "name": "python",
   "nbconvert_exporter": "python",
   "pygments_lexer": "ipython3",
   "version": "3.12.4"
  }
 },
 "nbformat": 4,
 "nbformat_minor": 2
}
