{
 "cells": [
  {
   "cell_type": "markdown",
   "metadata": {},
   "source": [
    "1# Theory\n",
    "This stage is the last stage in this project, which means that when you complete it, you will also complete the project itself.\n",
    "\n",
    "You likely have already noticed, that each stage is provided with examples of how the program should work in the Examples section. There may be one, two, or even more examples, depending on the complexity of the program.\n",
    "\n",
    "The program typically operates in a loop since it often requires user input. It presents some information, retrieves some from the user, and then repeats this process.\n",
    "\n",
    "That said, let's review this example:\n",
    "\n",
    "```What's your name?\n",
    "> Bob\n",
    "Hello, Bob!"
   ]
  },
  {
   "cell_type": "markdown",
   "metadata": {},
   "source": [
    "This example demonstrates that the program should initially show the message 'What's your name?' and then request input from the user. Upon receiving the response 'Bob', the program will display the final message 'Hello, Bob!'.\n",
    "\n",
    "# Description\n",
    "In the final stage, let's calculate the shop's net income. To do this, you need to retrieve staff and other expenses from the user input and subtract them from the income you came up with in the previous stage.\n",
    "\n",
    "You don't need to change the previous functionality of your program, but to expand it by adding both inputs and calculating the net income."
   ]
  },
  {
   "cell_type": "markdown",
   "metadata": {},
   "source": [
    "# Objectives\n",
    "In this stage, your program should:\n",
    "\n",
    "Print the item names, what you earned for each of them and total earnings as before;\n",
    "\n",
    "Ask users for staff expenses with the Staff expenses: string and for other expenses with the Other expenses: string;\n",
    "\n",
    "Calculate and print the net income as shown below. Replace 0.0 with the actual net income:\n",
    "\n",
    "Net income: $0.0\n",
    "\n",
    "# Examples\n",
    "The greater-than symbol followed by a space (> ) represents the user input. Note that it's not part of the input: It is just used to separate the user input from the output of your program in the stage examples, you don't need to print the > sign!\n",
    "\n",
    "Example 1: the user inputs 2000 for staff expenses and 205 for other expenses accordingly:\n",
    "\n",
    "```Earned amount:\n",
    "Bubblegum: $202\n",
    "Toffee: $118\n",
    "Ice cream: $2250\n",
    "Milk chocolate: $1680\n",
    "Doughnut: $1075\n",
    "Pancake: $80\n",
    "\n",
    "Income: $5405\n",
    "Staff expenses:\n",
    "> 2000\n",
    "Other expenses:\n",
    "> 205\n",
    "Net income: $3200"
   ]
  },
  {
   "cell_type": "markdown",
   "metadata": {},
   "source": [
    "Example 2: the user inputs 5203 for staff expenses and 400 for other expenses accordingly:\n",
    "\n",
    "```Earned amount:\n",
    "Bubblegum: $202\n",
    "Toffee: $118\n",
    "Ice cream: $2250\n",
    "Milk chocolate: $1680\n",
    "Doughnut: $1075\n",
    "Pancake: $80\n",
    "\n",
    "Income: $5405\n",
    "Staff expenses:\n",
    "> 5203\n",
    "Other expenses:\n",
    "> 400\n",
    "Net income: $-198\n",
    "\n"
   ]
  },
  {
   "cell_type": "code",
   "execution_count": 1,
   "metadata": {},
   "outputs": [
    {
     "name": "stdout",
     "output_type": "stream",
     "text": [
      "Earned amount:\n",
      "Bubblegum: $202\n",
      "Toffee: $118\n",
      "Ice cream: $2250\n",
      "Milk chocolate: $1680\n",
      "Doughnut: $1075\n",
      "Pancake: $80\n",
      "\n",
      "Income: $5405\n",
      "Net income: $2905\n"
     ]
    }
   ],
   "source": [
    "def calculate_income():\n",
    "    items = {\n",
    "        \"Bubblegum\": 202,\n",
    "        \"Toffee\": 118,\n",
    "        \"Ice cream\": 2250,\n",
    "        \"Milk chocolate\": 1680,\n",
    "        \"Doughnut\": 1075,\n",
    "        \"Pancake\": 80\n",
    "    }\n",
    "\n",
    "    total_income = sum(items.values())\n",
    "\n",
    "    print(\"Earned amount:\")\n",
    "    for item, amount in items.items():\n",
    "        print(f\"{item}: ${amount}\")\n",
    "    \n",
    "    print(f\"\\nIncome: ${total_income}\")\n",
    "\n",
    "    # Get user input for expenses\n",
    "    staff_expenses = int(input(\"Staff expenses:\\n\"))\n",
    "    other_expenses = int(input(\"Other expenses:\\n\"))\n",
    "\n",
    "    # Calculate net income\n",
    "    net_income = total_income - staff_expenses - other_expenses\n",
    "\n",
    "    print(f\"Net income: ${net_income}\")\n",
    "\n",
    "if __name__ == \"__main__\":\n",
    "    calculate_income()"
   ]
  }
 ],
 "metadata": {
  "kernelspec": {
   "display_name": "base",
   "language": "python",
   "name": "python3"
  },
  "language_info": {
   "codemirror_mode": {
    "name": "ipython",
    "version": 3
   },
   "file_extension": ".py",
   "mimetype": "text/x-python",
   "name": "python",
   "nbconvert_exporter": "python",
   "pygments_lexer": "ipython3",
   "version": "3.12.4"
  }
 },
 "nbformat": 4,
 "nbformat_minor": 2
}
