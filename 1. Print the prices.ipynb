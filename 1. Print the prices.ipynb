{
 "cells": [
  {
   "cell_type": "markdown",
   "metadata": {},
   "source": [
    "# Theory\n",
    "Welcome to your first Python project! On Hyperskill, a project is a practical task where you apply skills from theoretical topics. Each project is a complete application: a game, a search engine, etc. To help you grasp the idea, let's write a simple net income calculator in this one!\n",
    "\n",
    "This is the first stage in the project, a step in its development. For example, you can't create a Tetris game in one take; instead, break down the task into smaller steps — designing a game board or a menu. Same with our projects, each consists of multiple stages.\n",
    "\n",
    "Below, you will find a description that gives a context behind what you should do. Objectives state the main task of the stage and the details.\n",
    "\n",
    "Write your code in the Code Editor below and press Run Solution to check it. If your solution is correct, move to the second stage by pressing Continue.\n",
    "\n",
    "# Description\n",
    "You've recently opened a new corner shop. It is relatively small; it contains only a bubblegum, toffee, ice cream, milk chocolate, doughnuts, and pancakes.\n",
    "\n",
    "A corner shop illustration\n",
    "\n",
    "The first version of the program will display a list of all the products with their prices.\n",
    "\n",
    "# Objectives\n",
    "Print the Prices: line;\n",
    "\n",
    "Print the item names and prices from the Example below. Your output format should follow it.\n",
    "\n",
    "# Example 1: output at the end of this stage\n",
    "\n",
    "```Prices:\n",
    "Bubblegum: $2\n",
    "Toffee: $0.2\n",
    "Ice cream: $5\n",
    "Milk chocolate: $4\n",
    "Doughnut: $2.5\n",
    "Pancake: $3.2"
   ]
  },
  {
   "cell_type": "code",
   "execution_count": 1,
   "metadata": {},
   "outputs": [
    {
     "name": "stdout",
     "output_type": "stream",
     "text": [
      "Prices:\n",
      "Bubblegum: $2\n",
      "Toffee: $0.2\n",
      "Ice cream: $5\n",
      "Milk chocolate: $4\n",
      "Doughnut: $2.5\n",
      "Pancake: $3.2\n"
     ]
    }
   ],
   "source": [
    "# Solution\n",
    "def print_prices():\n",
    "    print(\"Prices:\")\n",
    "    print(\"Bubblegum: $2\")\n",
    "    print(\"Toffee: $0.2\")\n",
    "    print(\"Ice cream: $5\")\n",
    "    print(\"Milk chocolate: $4\")\n",
    "    print(\"Doughnut: $2.5\")\n",
    "    print(\"Pancake: $3.2\")\n",
    "\n",
    "if __name__ == \"__main__\":\n",
    "    print_prices()"
   ]
  }
 ],
 "metadata": {
  "kernelspec": {
   "display_name": "base",
   "language": "python",
   "name": "python3"
  },
  "language_info": {
   "codemirror_mode": {
    "name": "ipython",
    "version": 3
   },
   "file_extension": ".py",
   "mimetype": "text/x-python",
   "name": "python",
   "nbconvert_exporter": "python",
   "pygments_lexer": "ipython3",
   "version": "3.12.4"
  }
 },
 "nbformat": 4,
 "nbformat_minor": 2
}
